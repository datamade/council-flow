{
 "cells": [
  {
   "cell_type": "code",
   "execution_count": 5,
   "metadata": {
    "collapsed": true,
    "deletable": true,
    "editable": true
   },
   "outputs": [],
   "source": [
    "import agate"
   ]
  },
  {
   "cell_type": "code",
   "execution_count": 6,
   "metadata": {
    "collapsed": true
   },
   "outputs": [],
   "source": [
    "attendance = agate.Table.from_csv('/Users/jackcorrigan/projects/council-flow/council-attendance/attendance.csv')"
   ]
  },
  {
   "cell_type": "code",
   "execution_count": 7,
   "metadata": {
    "collapsed": false,
    "deletable": true,
    "editable": true
   },
   "outputs": [
    {
     "name": "stdout",
     "output_type": "stream",
     "text": [
      "| column    | data_type |\n",
      "| --------- | --------- |\n",
      "| committee | Text      |\n",
      "| date      | Date      |\n",
      "| alderman  | Text      |\n",
      "| status    | Text      |\n",
      "\n"
     ]
    }
   ],
   "source": [
    "print (attendance)"
   ]
  },
  {
   "cell_type": "code",
   "execution_count": 8,
   "metadata": {
    "collapsed": true
   },
   "outputs": [],
   "source": [
    "grouped_alderman = attendance.group_by('alderman')"
   ]
  },
  {
   "cell_type": "code",
   "execution_count": 9,
   "metadata": {
    "collapsed": true
   },
   "outputs": [],
   "source": [
    "count_alderman = grouped_alderman.aggregate([('count', agate.Count())])"
   ]
  },
  {
   "cell_type": "code",
   "execution_count": 10,
   "metadata": {
    "collapsed": true
   },
   "outputs": [],
   "source": [
    "ordered_alderman = count_alderman.order_by('count', reverse=True)"
   ]
  },
  {
   "cell_type": "code",
   "execution_count": 11,
   "metadata": {
    "collapsed": false
   },
   "outputs": [
    {
     "name": "stdout",
     "output_type": "stream",
     "text": [
      "| alderman             | count |\n",
      "| -------------------- | ----- |\n",
      "| Quinn, Marty         |   699 |\n",
      "| Harris, Michelle A.  |   683 |\n",
      "| Reboyras, Ariel      |   659 |\n",
      "| Tunney, Thomas       |   655 |\n",
      "| Mitts, Emma          |   635 |\n",
      "| Burnett, Jr., Walter |   623 |\n",
      "| Ervin, Jason C.      |   617 |\n",
      "| Cullerton, Timoth... |   616 |\n",
      "| Cochran, Willie      |   607 |\n",
      "| Waguespack, Scott    |   601 |\n",
      "| Smith, Michele       |   599 |\n",
      "| Solis, Daniel        |   597 |\n",
      "| Sposato, Nicholas    |   596 |\n",
      "| Cappleman, James     |   596 |\n",
      "| Foulkes, Toni        |   592 |\n",
      "| Silverstein, Debr... |   588 |\n",
      "| Pawar, Ameya         |   588 |\n",
      "| Hairston, Leslie A.  |   583 |\n",
      "| Austin, Carrie M.    |   583 |\n",
      "| Beale, Anthony       |   582 |\n",
      "| O'Shea, Matthew J.   |   580 |\n",
      "| Burke, Edward M.     |   579 |\n",
      "| Munoz, Ricardo       |   576 |\n",
      "| Moreno, Proco Joe    |   574 |\n",
      "| Sawyer, Roderick T.  |   570 |\n",
      "| Moore, Joseph        |   569 |\n",
      "| Cardenas, George A.  |   564 |\n",
      "| Zalewski, Michael R. |   557 |\n",
      "| Osterman, Harry      |   537 |\n",
      "| Mell, Deborah        |   537 |\n",
      "| Moore, David H.      |   510 |\n",
      "| Scott, Jr. Michael   |   509 |\n",
      "| Dowell, Pat          |   507 |\n",
      "| Maldonado, Roberto   |   507 |\n",
      "| Thompson, Patrick D. |   496 |\n",
      "| Santiago, Milagro... |   493 |\n",
      "| Taliaferro, Chris    |   492 |\n",
      "| Curtis, Derrick G.   |   492 |\n",
      "| Ramirez-Rosa, Carlos |   491 |\n",
      "| Napolitano, Antho... |   490 |\n",
      "| Hopkins, Brian       |   487 |\n",
      "| Sadlowski Garza, ... |   486 |\n",
      "| Mitchell, Gregory I. |   482 |\n",
      "| Newsome, Shirley     |   469 |\n",
      "| Reilly, Brendan      |   463 |\n",
      "| Villegas, Gilbert    |   463 |\n",
      "| King, Sophia         |   462 |\n",
      "| Laurino, Margaret    |   453 |\n",
      "| Arena, John          |   444 |\n",
      "| Lane, Lona           |   440 |\n",
      "| Balcer, James        |   426 |\n",
      "| Graham, Deborah L.   |   422 |\n",
      "| Brookins, Jr., Ho... |   417 |\n",
      "| Colon, Rey           |   413 |\n",
      "| Suarez, Regner Ray   |   411 |\n",
      "| Burns, William D.    |   405 |\n",
      "| Fioretti, Bob        |   405 |\n",
      "| O'Connor, Patrick    |   398 |\n",
      "| O'Connor, Mary       |   374 |\n",
      "| Pope, John           |   363 |\n",
      "| Thomas, Latasha R.   |   351 |\n",
      "| Rice, John           |   335 |\n",
      "| Lopez, Raymond A.    |   314 |\n",
      "| Mell, Richard F.     |   301 |\n",
      "| Holmes, Natashia     |   301 |\n",
      "| Olivo, Frank         |   284 |\n",
      "| Chandler, Michael D. |   269 |\n",
      "| Rugai, Virginia      |   172 |\n",
      "| Thompson, JoAnn      |   172 |\n",
      "| Lyle, Freddrenna     |   163 |\n",
      "| Schulter, Eugene     |    56 |\n",
      "| Jackson, Sandi       |    47 |\n",
      "| Doherty, Brian       |    17 |\n",
      "| Shiller, Helen       |    15 |\n",
      "| Levar, Patrick       |    13 |\n",
      "| Stone, Bernard       |    11 |\n",
      "| Smith, Mary Ann      |    11 |\n",
      "| Daley, Vi            |    10 |\n",
      "| Dixon, Sharon        |     5 |\n",
      "| Smith, Ed            |     1 |\n"
     ]
    }
   ],
   "source": [
    "ordered_alderman.print_table(max_rows= 100)"
   ]
  },
  {
   "cell_type": "code",
   "execution_count": 31,
   "metadata": {
    "collapsed": false
   },
   "outputs": [],
   "source": [
    "marty_quinn = attendance.where(lambda row: row['alderman'] is 'Quinn, Marty')"
   ]
  },
  {
   "cell_type": "code",
   "execution_count": 34,
   "metadata": {
    "collapsed": false
   },
   "outputs": [],
   "source": [
    "mq_group = marty_quinn.aggregate([('count', agate.Count('status'))])"
   ]
  },
  {
   "cell_type": "code",
   "execution_count": null,
   "metadata": {
    "collapsed": true
   },
   "outputs": [],
   "source": [
    "mq_order = mq_group.order_by"
   ]
  }
 ],
 "metadata": {
  "kernelspec": {
   "display_name": "Python 2",
   "language": "python",
   "name": "python2"
  },
  "language_info": {
   "codemirror_mode": {
    "name": "ipython",
    "version": 2
   },
   "file_extension": ".py",
   "mimetype": "text/x-python",
   "name": "python",
   "nbconvert_exporter": "python",
   "pygments_lexer": "ipython2",
   "version": "2.7.13"
  }
 },
 "nbformat": 4,
 "nbformat_minor": 2
}
