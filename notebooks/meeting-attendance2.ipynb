{
 "cells": [
  {
   "cell_type": "code",
   "execution_count": 1,
   "metadata": {
    "collapsed": true
   },
   "outputs": [],
   "source": [
    "import agate"
   ]
  },
  {
   "cell_type": "code",
   "execution_count": 2,
   "metadata": {
    "collapsed": false
   },
   "outputs": [
    {
     "name": "stderr",
     "output_type": "stream",
     "text": [
      "/usr/local/lib/python2.7/site-packages/agate/table/__init__.py:90: UnnamedColumnWarning: Column 4 has no name. Using \"e\".\n"
     ]
    }
   ],
   "source": [
    "committees = agate.Table.from_csv('/Users/jackcorrigan/projects/council-flow/council-attendance/meeting_attendance_filter.csv')"
   ]
  },
  {
   "cell_type": "code",
   "execution_count": 3,
   "metadata": {
    "collapsed": false
   },
   "outputs": [
    {
     "name": "stdout",
     "output_type": "stream",
     "text": [
      "| column    | data_type |\n",
      "| --------- | --------- |\n",
      "| committee | Text      |\n",
      "| date      | Date      |\n",
      "| attendee  | Text      |\n",
      "| status    | Text      |\n",
      "| e         | Boolean   |\n",
      "\n"
     ]
    }
   ],
   "source": [
    "print(committees)"
   ]
  },
  {
   "cell_type": "code",
   "execution_count": 28,
   "metadata": {
    "collapsed": true
   },
   "outputs": [],
   "source": [
    "committee_group = committees.group_by('committee')"
   ]
  },
  {
   "cell_type": "code",
   "execution_count": 24,
   "metadata": {
    "collapsed": true
   },
   "outputs": [],
   "source": [
    "committee_date_group = committee_group.order_by(lambda row: row['date'])"
   ]
  },
  {
   "cell_type": "code",
   "execution_count": 26,
   "metadata": {
    "collapsed": false
   },
   "outputs": [],
   "source": [
    "count_meetings = committee_date_group.aggregate([('count',agate.Count('date'))])"
   ]
  },
  {
   "cell_type": "code",
   "execution_count": 27,
   "metadata": {
    "collapsed": false
   },
   "outputs": [
    {
     "name": "stdout",
     "output_type": "stream",
     "text": [
      "| committee            | count |\n",
      "| -------------------- | ----- |\n",
      "| Committee on Tran... |   832 |\n",
      "| Joint Committee: ... |    41 |\n",
      "| Committee on Zoni... |   926 |\n",
      "| Committee on Spec... |   498 |\n",
      "| Committee on Hous... |   816 |\n",
      "| Committee on Budg... | 1,051 |\n",
      "| Committee on Pede... |   165 |\n",
      "| Committee on Heal... |   104 |\n",
      "| City Council         | 5,450 |\n",
      "| Committee on Educ... |   134 |\n",
      "| Committee on Lice... |   969 |\n",
      "| Committee on Publ... |   416 |\n",
      "| Committee on Huma... |   214 |\n",
      "| Committee on Finance | 1,906 |\n",
      "| Committee on Econ... |   427 |\n",
      "| Committee on Avia... |   324 |\n",
      "| Committee on Work... |   302 |\n",
      "| Committee on Comm... |   512 |\n",
      "| Joint Committee: ... |    43 |\n",
      "| Joint Committee: ... |    32 |\n",
      "| Joint Committee: ... |    10 |\n",
      "| Joint Committee: ... |     9 |\n",
      "| Committee on Ener... |    28 |\n"
     ]
    }
   ],
   "source": [
    "finance_count = committee_group.where()"
   ]
  },
  {
   "cell_type": "code",
   "execution_count": null,
   "metadata": {
    "collapsed": true
   },
   "outputs": [],
   "source": []
  }
 ],
 "metadata": {
  "kernelspec": {
   "display_name": "Python 2",
   "language": "python",
   "name": "python2"
  },
  "language_info": {
   "codemirror_mode": {
    "name": "ipython",
    "version": 2
   },
   "file_extension": ".py",
   "mimetype": "text/x-python",
   "name": "python",
   "nbconvert_exporter": "python",
   "pygments_lexer": "ipython2",
   "version": "2.7.13"
  }
 },
 "nbformat": 4,
 "nbformat_minor": 2
}
