{
 "cells": [
  {
   "cell_type": "code",
   "execution_count": 2,
   "metadata": {
    "collapsed": true,
    "deletable": true,
    "editable": true
   },
   "outputs": [],
   "source": [
    "import agate"
   ]
  },
  {
   "cell_type": "code",
   "execution_count": 3,
   "metadata": {
    "collapsed": false,
    "deletable": true,
    "editable": true
   },
   "outputs": [],
   "source": [
    "bills = agate.Table.from_csv('failed_clean_all.csv')"
   ]
  },
  {
   "cell_type": "code",
   "execution_count": 4,
   "metadata": {
    "collapsed": false,
    "deletable": true,
    "editable": true
   },
   "outputs": [
    {
     "name": "stdout",
     "output_type": "stream",
     "text": [
      "| column     | data_type |\n",
      "| ---------- | --------- |\n",
      "| Name       | Text      |\n",
      "| Identifier | Text      |\n",
      "| Sponsor    | Text      |\n",
      "| Type       | Text      |\n",
      "| Vote       | Text      |\n",
      "\n"
     ]
    }
   ],
   "source": [
    "print bills"
   ]
  },
  {
   "cell_type": "code",
   "execution_count": 5,
   "metadata": {
    "collapsed": false,
    "deletable": true,
    "editable": true
   },
   "outputs": [],
   "source": [
    "row = bills.rows[2]"
   ]
  },
  {
   "cell_type": "code",
   "execution_count": 6,
   "metadata": {
    "collapsed": false,
    "deletable": true,
    "editable": true
   },
   "outputs": [
    {
     "name": "stdout",
     "output_type": "stream",
     "text": [
      "<agate.Row: (u\"Tax Levy requirement for Policemen's Annuity and Benefit Fund of Chicago for Year 2015\", u'R 2014-778', u'Silverstein, Debra L.', u'resolution', u'[]')>\n"
     ]
    }
   ],
   "source": [
    "print row"
   ]
  },
  {
   "cell_type": "code",
   "execution_count": 7,
   "metadata": {
    "collapsed": true,
    "deletable": true,
    "editable": true
   },
   "outputs": [],
   "source": [
    "column = bills.columns[2]"
   ]
  },
  {
   "cell_type": "code",
   "execution_count": 8,
   "metadata": {
    "collapsed": false,
    "deletable": true,
    "editable": true
   },
   "outputs": [
    {
     "name": "stdout",
     "output_type": "stream",
     "text": [
      "<agate.Column: (u'Pawar, Ameya', u'Silverstein, Debra L.', u'Silverstein, Debra L.', u'Waguespack, Scott', u'Silverstein, Debra L.', ...)>\n"
     ]
    }
   ],
   "source": [
    "print column"
   ]
  },
  {
   "cell_type": "code",
   "execution_count": 9,
   "metadata": {
    "collapsed": true,
    "deletable": true,
    "editable": true
   },
   "outputs": [],
   "source": [
    "by_sponsor = bills.group_by('Sponsor')"
   ]
  },
  {
   "cell_type": "code",
   "execution_count": 10,
   "metadata": {
    "collapsed": true,
    "deletable": true,
    "editable": true
   },
   "outputs": [],
   "source": [
    "sponsor_totals = by_sponsor.aggregate([('count', agate.Count())])"
   ]
  },
  {
   "cell_type": "code",
   "execution_count": 11,
   "metadata": {
    "collapsed": true,
    "deletable": true,
    "editable": true
   },
   "outputs": [],
   "source": [
    "sorted_totals = sponsor_totals.order_by('count', reverse=True)"
   ]
  },
  {
   "cell_type": "code",
   "execution_count": 12,
   "metadata": {
    "collapsed": false,
    "deletable": true,
    "editable": true
   },
   "outputs": [
    {
     "name": "stdout",
     "output_type": "stream",
     "text": [
      "| Sponsor              | count |\n",
      "| -------------------- | ----- |\n",
      "| Silverstein, Debr... |   307 |\n",
      "| Balcer, James        |   273 |\n",
      "| Cardenas, George A.  |   266 |\n",
      "| Burke, Edward M.     |   258 |\n",
      "| Moreno, Proco Joe    |   253 |\n",
      "| Reilly, Brendan      |   216 |\n",
      "| Harris, Michelle A.  |   204 |\n",
      "| Burnett, Jr., Walter |   193 |\n",
      "| Smith, Michele       |   179 |\n",
      "| Solis, Daniel        |   167 |\n",
      "| Fioretti, Bob        |   161 |\n",
      "| O'Connor, Mary       |   160 |\n",
      "| Ervin, Jason C.      |   134 |\n",
      "| O'Connor, Patrick    |   131 |\n",
      "| Waguespack, Scott    |   125 |\n",
      "| Colon, Rey           |   125 |\n",
      "| Arena, John          |   122 |\n",
      "| Lane, Lona           |   119 |\n",
      "| Maldonado, Roberto   |   117 |\n",
      "| Mitts, Emma          |   100 |\n",
      "| Cochran, Willie      |    98 |\n",
      "| Quinn, Marty         |    95 |\n",
      "| Foulkes, Toni        |    95 |\n",
      "| Hairston, Leslie A.  |    94 |\n",
      "| Brookins, Jr., Ho... |    91 |\n",
      "| Burns, William D.    |    82 |\n",
      "| Tunney, Thomas       |    81 |\n",
      "| Osterman, Harry      |    80 |\n",
      "| Moore, Joseph        |    79 |\n",
      "| Pawar, Ameya         |    77 |\n",
      "| Chandler, Michael D. |    71 |\n",
      "| Sawyer, Roderick T.  |    70 |\n",
      "| Graham, Deborah L.   |    69 |\n",
      "| Thomas, Latasha R.   |    67 |\n",
      "| Suarez, Regner Ray   |    65 |\n",
      "| O'Shea, Matthew J.   |    63 |\n",
      "| Sposato, Nicholas    |    62 |\n",
      "| Zalewski, Michael R. |    61 |\n",
      "| Cullerton, Timoth... |    60 |\n",
      "| Reboyras, Ariel      |    58 |\n",
      "| Munoz, Ricardo       |    58 |\n",
      "| Mell, Richard F.     |    56 |\n",
      "| Austin, Carrie M.    |    55 |\n",
      "| Emanuel, Rahm        |    52 |\n",
      "| Cappleman, James     |    51 |\n",
      "| Laurino, Margaret    |    47 |\n",
      "| Pope, John           |    44 |\n",
      "| Dowell, Pat          |    35 |\n",
      "| Thompson, JoAnn      |    34 |\n",
      "| Beale, Anthony       |    32 |\n",
      "| Mendoza, Susana A.   |    25 |\n",
      "| Holmes, Natashia     |    23 |\n",
      "| Jackson, Sandi       |    16 |\n",
      "| Stone, Bernard       |    16 |\n",
      "| Dixon, Sharon        |    10 |\n",
      "| Mell, Deborah        |     5 |\n",
      "| Rice, John           |     3 |\n",
      "| Schulter, Eugene     |     2 |\n",
      "| Daley, Vi            |     2 |\n",
      "| Rugai, Virginia      |     1 |\n"
     ]
    }
   ],
   "source": [
    "sorted_totals.print_table(max_rows=110)"
   ]
  },
  {
   "cell_type": "code",
   "execution_count": 13,
   "metadata": {
    "collapsed": false,
    "deletable": true,
    "editable": true
   },
   "outputs": [],
   "source": [
    "by_type = bills.group_by('Type')"
   ]
  },
  {
   "cell_type": "code",
   "execution_count": 14,
   "metadata": {
    "collapsed": true,
    "deletable": true,
    "editable": true
   },
   "outputs": [],
   "source": [
    "bills_total = by_type.aggregate([('count',agate.Count())])"
   ]
  },
  {
   "cell_type": "code",
   "execution_count": 15,
   "metadata": {
    "collapsed": true,
    "deletable": true,
    "editable": true
   },
   "outputs": [],
   "source": [
    "sorted_types = bills_total.order_by('count', reverse=True)"
   ]
  },
  {
   "cell_type": "code",
   "execution_count": 16,
   "metadata": {
    "collapsed": false,
    "deletable": true,
    "editable": true
   },
   "outputs": [
    {
     "name": "stdout",
     "output_type": "stream",
     "text": [
      "| Type        | count |\n",
      "| ----------- | ----- |\n",
      "| claim       | 3,427 |\n",
      "| ordinance   | 1,745 |\n",
      "| order       |   348 |\n",
      "| resolution  |   174 |\n",
      "| appointment |     1 |\n"
     ]
    }
   ],
   "source": [
    "sorted_types.print_table(max_rows=5)"
   ]
  },
  {
   "cell_type": "code",
   "execution_count": 18,
   "metadata": {
    "collapsed": false,
    "deletable": true,
    "editable": true
   },
   "outputs": [],
   "source": [
    "pbills = agate.Table.from_csv('passed_clean_all.csv')"
   ]
  },
  {
   "cell_type": "code",
   "execution_count": 20,
   "metadata": {
    "collapsed": false
   },
   "outputs": [],
   "source": [
    "by_typep = pbills.group_by('type')"
   ]
  },
  {
   "cell_type": "code",
   "execution_count": 21,
   "metadata": {
    "collapsed": true
   },
   "outputs": [],
   "source": [
    "pbills_total = by_typep.aggregate([('count', agate.Count())])"
   ]
  },
  {
   "cell_type": "code",
   "execution_count": 22,
   "metadata": {
    "collapsed": true
   },
   "outputs": [],
   "source": [
    "sorted_ptypes = pbills_total.order_by('count', reverse=True)"
   ]
  },
  {
   "cell_type": "code",
   "execution_count": 23,
   "metadata": {
    "collapsed": false
   },
   "outputs": [
    {
     "name": "stdout",
     "output_type": "stream",
     "text": [
      "| type      |  count |\n",
      "| --------- | ------ |\n",
      "| ordinance | 33,476 |\n",
      "| order     |  2,464 |\n",
      "| claim     |    523 |\n"
     ]
    }
   ],
   "source": [
    "sorted_ptypes.print_table(max_rows=5)"
   ]
  },
  {
   "cell_type": "code",
   "execution_count": null,
   "metadata": {
    "collapsed": true
   },
   "outputs": [],
   "source": []
  }
 ],
 "metadata": {
  "kernelspec": {
   "display_name": "Python 2",
   "language": "python",
   "name": "python2"
  },
  "language_info": {
   "codemirror_mode": {
    "name": "ipython",
    "version": 2
   },
   "file_extension": ".py",
   "mimetype": "text/x-python",
   "name": "python",
   "nbconvert_exporter": "python",
   "pygments_lexer": "ipython2",
   "version": "2.7.13"
  }
 },
 "nbformat": 4,
 "nbformat_minor": 2
}
