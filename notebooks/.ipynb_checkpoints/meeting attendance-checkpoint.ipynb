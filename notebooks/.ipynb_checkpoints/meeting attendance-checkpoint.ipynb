{
 "cells": [
  {
   "cell_type": "code",
   "execution_count": 3,
   "metadata": {
    "collapsed": true,
    "deletable": true,
    "editable": true
   },
   "outputs": [],
   "source": [
    "import agate"
   ]
  },
  {
   "cell_type": "code",
   "execution_count": 4,
   "metadata": {
    "collapsed": false,
    "deletable": true,
    "editable": true
   },
   "outputs": [
    {
     "name": "stderr",
     "output_type": "stream",
     "text": [
      "/usr/local/lib/python2.7/site-packages/agate/table/__init__.py:90: UnnamedColumnWarning: Column 4 has no name. Using \"e\".\n"
     ]
    }
   ],
   "source": [
    "attendees = agate.Table.from_csv('/Users/jackcorrigan/projects/council-flow/council-attendance/meeting_attendance_filter.csv')"
   ]
  },
  {
   "cell_type": "code",
   "execution_count": 6,
   "metadata": {
    "collapsed": false,
    "deletable": true,
    "editable": true,
    "scrolled": true
   },
   "outputs": [
    {
     "name": "stdout",
     "output_type": "stream",
     "text": [
      "| column    | data_type |\n",
      "| --------- | --------- |\n",
      "| committee | Text      |\n",
      "| date      | Date      |\n",
      "| attendee  | Text      |\n",
      "| status    | Text      |\n",
      "| e         | Boolean   |\n",
      "\n"
     ]
    }
   ],
   "source": [
    "print(attendees)"
   ]
  },
  {
   "cell_type": "code",
   "execution_count": 9,
   "metadata": {
    "collapsed": true,
    "deletable": true,
    "editable": true
   },
   "outputs": [],
   "source": [
    "grouped_meetings = attendees.group_by('committee')"
   ]
  },
  {
   "cell_type": "code",
   "execution_count": 10,
   "metadata": {
    "collapsed": true,
    "deletable": true,
    "editable": true
   },
   "outputs": [],
   "source": [
    "meeting_count = grouped_meetings.aggregate([('count', agate.Count())])"
   ]
  },
  {
   "cell_type": "code",
   "execution_count": 11,
   "metadata": {
    "collapsed": true,
    "deletable": true,
    "editable": true
   },
   "outputs": [],
   "source": [
    "meeting_order = meeting_count.order_by('count', reverse = True)"
   ]
  },
  {
   "cell_type": "code",
   "execution_count": 12,
   "metadata": {
    "collapsed": false,
    "deletable": true,
    "editable": true
   },
   "outputs": [
    {
     "name": "stdout",
     "output_type": "stream",
     "text": [
      "committee                                                                             count\n",
      "City Council                                                                          5,450 ▓░░░░░░░░░░░░░░░░░░░░░░░░░  \n",
      "Committee on Finance                                                                  1,906 ▓░░░░░░░░░                  \n",
      "Committee on Budget and Government Operations                                         1,051 ▓░░░░░                      \n",
      "Committee on License and Consumer Protection                                            969 ▓░░░░                       \n",
      "Committee on Zoning, Landmarks and Building Standards                                   926 ▓░░░░                       \n",
      "Committee on Transportation and Public Way                                              832 ▓░░░░                       \n",
      "Committee on Housing and Real Estate                                                    816 ▓░░░░                       \n",
      "Committee on Committees, Rules and Ethics                                               512 ▓░░                         \n",
      "Committee on Special Events, Cultural Affairs and Recreation                            498 ▓░░                         \n",
      "Committee on Economic, Capital and Technology Development                               427 ▓░░                         \n",
      "Committee on Public Safety                                                              416 ▓░░                         \n",
      "Committee on Aviation                                                                   324 ▓░                          \n",
      "Committee on Workforce Development and Audit                                            302 ▓░                          \n",
      "Committee on Human Relations                                                            214 ▓░                          \n",
      "Committee on Pedestrian and Traffic Safety                                              165 ▓░                          \n",
      "Committee on Education and Child Development                                            134 ▓░                          \n",
      "Committee on Health and Environmental Protection                                        104 ▓                           \n",
      "Joint Committee: Human Relations; Public Safety                                          43 ▓                           \n",
      "Joint Committee: License and Consumer Protection; Transportation and Public Way          41 ▓                           \n",
      "Joint Committee: Housing and Real Estate; Zoning, Landmarks and Building Standards       32 ▓                           \n",
      "Committee on Energy, Environmental Protection and Public Utilities                       28 ▓                           \n",
      "Joint Committee: Finance; Public Safety                                                  10 ▓                           \n",
      "Joint Committee: Education and Child Development; Health and Environmental Protection     9 ▓                           \n",
      "                                                                                            +------+------+------------+\n",
      "                                                                                            0    1,500  3,000      6,000\n"
     ]
    }
   ],
   "source": [
    "meeting_order.print_bars('committee', 'count', width=120)"
   ]
  },
  {
   "cell_type": "code",
   "execution_count": 58,
   "metadata": {
    "collapsed": false,
    "deletable": true,
    "editable": true
   },
   "outputs": [
    {
     "data": {
      "text/plain": [
       "1077"
      ]
     },
     "execution_count": 58,
     "metadata": {},
     "output_type": "execute_result"
    }
   ],
   "source": [
    "attendees.aggregate(agate.Count('minus_meetings', None))"
   ]
  },
  {
   "cell_type": "code",
   "execution_count": 68,
   "metadata": {
    "collapsed": true,
    "deletable": true,
    "editable": true
   },
   "outputs": [],
   "source": [
    "## In the _clean.csv I got rid of cancelled meetings and meetings that had no participants listed\n",
    "## This ended up removing 289 meetings from the dataset, or 26.8% of the total"
   ]
  },
  {
   "cell_type": "code",
   "execution_count": 40,
   "metadata": {
    "collapsed": false,
    "deletable": true,
    "editable": true
   },
   "outputs": [],
   "source": [
    "attendees_clean = agate.Table.from_csv('/Users/jackcorrigan/projects/council-flow/meeting_attendance_clean.csv')"
   ]
  },
  {
   "cell_type": "code",
   "execution_count": 71,
   "metadata": {
    "collapsed": true,
    "deletable": true,
    "editable": true
   },
   "outputs": [],
   "source": [
    "ac_meeting_filter = attendees_clean.where(lambda row: row['minus_meetings'] is None)"
   ]
  },
  {
   "cell_type": "code",
   "execution_count": 72,
   "metadata": {
    "collapsed": true,
    "deletable": true,
    "editable": true
   },
   "outputs": [],
   "source": [
    "ac_grouped = ac_meeting_filter.group_by('committee')"
   ]
  },
  {
   "cell_type": "code",
   "execution_count": 43,
   "metadata": {
    "collapsed": true,
    "deletable": true,
    "editable": true
   },
   "outputs": [],
   "source": [
    "ac_count = ac_grouped.aggregate([('count', agate.Count())])"
   ]
  },
  {
   "cell_type": "code",
   "execution_count": 44,
   "metadata": {
    "collapsed": true,
    "deletable": true,
    "editable": true
   },
   "outputs": [],
   "source": [
    "ac_order = ac_count.order_by('count', reverse = True)"
   ]
  },
  {
   "cell_type": "code",
   "execution_count": 46,
   "metadata": {
    "collapsed": false,
    "deletable": true,
    "editable": true
   },
   "outputs": [
    {
     "name": "stdout",
     "output_type": "stream",
     "text": [
      "committee                                                                             count\n",
      "Chicago City Council                                                                     90 ▓░░░░░░░░░░░░░░░░░░░░░░░░░░░\n",
      "Committee on Zoning, Landmarks and Building Standards                                    87 ▓░░░░░░░░░░░░░░░░░░░░░░░░░░ \n",
      "Committee on Finance                                                                     76 ▓░░░░░░░░░░░░░░░░░░░░░░░    \n",
      "Committee on License and Consumer Protection                                             75 ▓░░░░░░░░░░░░░░░░░░░░░░     \n",
      "Committee on Housing and Real Estate                                                     68 ▓░░░░░░░░░░░░░░░░░░░░       \n",
      "Committee on Transportation and Public Way                                               67 ▓░░░░░░░░░░░░░░░░░░░░       \n",
      "Committee on Economic, Capital and Technology Development                                47 ▓░░░░░░░░░░░░░░             \n",
      "Committee on Budget and Government Operations                                            47 ▓░░░░░░░░░░░░░░             \n",
      "Committee on Public Safety                                                               39 ▓░░░░░░░░░░░░               \n",
      "Committee on Special Events, Cultural Affairs and Recreation                             34 ▓░░░░░░░░░░                 \n",
      "Committee on Human Relations                                                             29 ▓░░░░░░░░░                  \n",
      "Committee on Workforce Development and Audit                                             28 ▓░░░░░░░░                   \n",
      "Committee on Aviation                                                                    24 ▓░░░░░░░                    \n",
      "Committee on Committees, Rules and Ethics                                                22 ▓░░░░░░░                    \n",
      "Committee on Pedestrian and Traffic Safety                                               20 ▓░░░░░░                     \n",
      "Committee on Education and Child Development                                             16 ▓░░░░░                      \n",
      "Committee on Health and Environmental Protection                                         11 ▓░░░                        \n",
      "Committee on Energy, Environmental Protection and Public Utilities                        2 ▓░                          \n",
      "Joint Committee: License and Consumer Protection; Transportation and Public Way           2 ▓░                          \n",
      "Joint Committee: Education and Child Development; Health and Environmental Protection     1 ▓                           \n",
      "Joint Committee: Housing and Real Estate; Zoning, Landmarks and Building Standards        1 ▓                           \n",
      "Joint Committee: Finance; Public Safety                                                   1 ▓                           \n",
      "Joint Committee: Human Relations; Public Safety                                           1 ▓                           \n",
      "                                                                                            +------+------+-----+------+\n",
      "                                                                                            0.0  22.5   45.0  67.5  90.0\n"
     ]
    }
   ],
   "source": [
    "ac_order.print_bars('committee', 'count', width = 120)"
   ]
  },
  {
   "cell_type": "code",
   "execution_count": 80,
   "metadata": {
    "collapsed": false,
    "deletable": true,
    "editable": true
   },
   "outputs": [
    {
     "data": {
      "text/plain": [
       "788"
      ]
     },
     "execution_count": 80,
     "metadata": {},
     "output_type": "execute_result"
    }
   ],
   "source": [
    "attendees_clean.aggregate(agate.Count('minus_meetings', None))"
   ]
  },
  {
   "cell_type": "code",
   "execution_count": 81,
   "metadata": {
    "collapsed": true,
    "deletable": true,
    "editable": true
   },
   "outputs": [],
   "source": [
    "acp_clean = attendees_clean.where(lambda row: row['minus_meetings'] is not None)"
   ]
  },
  {
   "cell_type": "code",
   "execution_count": 86,
   "metadata": {
    "collapsed": true,
    "deletable": true,
    "editable": true
   },
   "outputs": [],
   "source": [
    "acp_group = acp_clean.group_by('participants')"
   ]
  },
  {
   "cell_type": "code",
   "execution_count": 92,
   "metadata": {
    "collapsed": false,
    "deletable": true,
    "editable": true
   },
   "outputs": [],
   "source": [
    "acp_meetings_group = acp_group.group_by(\n",
    "    lambda row: row['committee'])"
   ]
  },
  {
   "cell_type": "code",
   "execution_count": 93,
   "metadata": {
    "collapsed": true,
    "deletable": true,
    "editable": true
   },
   "outputs": [],
   "source": [
    "count_meetings_group = acp_meetings_group.aggregate([('count', agate.Count())])"
   ]
  },
  {
   "cell_type": "code",
   "execution_count": 94,
   "metadata": {
    "collapsed": true,
    "deletable": true,
    "editable": true
   },
   "outputs": [],
   "source": [
    "order_meetings_group = count_meetings_group.order_by('count', reverse=True)"
   ]
  },
  {
   "cell_type": "code",
   "execution_count": 96,
   "metadata": {
    "collapsed": false,
    "deletable": true,
    "editable": true,
    "scrolled": false
   },
   "outputs": [
    {
     "name": "stdout",
     "output_type": "stream",
     "text": [
      "| participants         | group                | count |\n",
      "| -------------------- | -------------------- | ----- |\n",
      "| Tunney, Thomas       | Chicago City Council |   113 |\n",
      "| Dowell, Pat          | Chicago City Council |   113 |\n",
      "| Burke, Edward M.     | Chicago City Council |   113 |\n",
      "| Harris, Michelle A.  | Chicago City Council |   113 |\n",
      "| Munoz, Ricardo       | Chicago City Council |   113 |\n",
      "| Burnett, Jr., Walter | Chicago City Council |   113 |\n",
      "| O'Shea, Matthew J.   | Chicago City Council |   113 |\n",
      "| Smith, Michele       | Chicago City Council |   113 |\n",
      "| Arena, John          | Chicago City Council |   113 |\n",
      "| Osterman, Harry      | Chicago City Council |   113 |\n",
      "| Waguespack, Scott    | Chicago City Council |   112 |\n",
      "| Ervin, Jason C.      | Chicago City Council |   112 |\n",
      "| Quinn, Marty         | Chicago City Council |   112 |\n",
      "| Sposato, Nicholas    | Chicago City Council |   112 |\n",
      "| Reboyras, Ariel      | Chicago City Council |   111 |\n",
      "| Zalewski, Michael R. | Chicago City Council |   111 |\n",
      "| Laurino, Margaret    | Chicago City Council |   111 |\n",
      "| Sawyer, Roderick T.  | Chicago City Council |   111 |\n",
      "| Cappleman, James     | Chicago City Council |   111 |\n",
      "| Hairston, Leslie A.  | Chicago City Council |   109 |\n",
      "| Foulkes, Toni        | Chicago City Council |   109 |\n",
      "| Reilly, Brendan      | Chicago City Council |   109 |\n",
      "| Mitts, Emma          | Chicago City Council |   108 |\n",
      "| Cardenas, George A.  | Chicago City Council |   107 |\n",
      "| Pawar, Ameya         | Chicago City Council |   107 |\n",
      "| Beale, Anthony       | Chicago City Council |   106 |\n",
      "| Solis, Daniel        | Chicago City Council |   106 |\n",
      "| Silverstein, Debr... | Chicago City Council |   106 |\n",
      "| Austin, Carrie M.    | Chicago City Council |   105 |\n",
      "| O'Connor, Patrick    | Chicago City Council |   105 |\n",
      "| Maldonado, Roberto   | Chicago City Council |   105 |\n",
      "| Brookins, Jr., Ho... | Chicago City Council |   104 |\n",
      "| Moreno, Proco Joe    | Chicago City Council |   104 |\n",
      "| Cochran, Willie      | Chicago City Council |   103 |\n",
      "| Moore, Joseph        | Chicago City Council |   102 |\n",
      "| Burns, William D.    | Chicago City Council |    93 |\n",
      "| Fioretti, Bob        | Chicago City Council |    89 |\n",
      "| Pope, John           | Chicago City Council |    88 |\n",
      "| Balcer, James        | Chicago City Council |    88 |\n",
      "| Colon, Rey           | Chicago City Council |    87 |\n",
      "| Cullerton, Timoth... | Chicago City Council |    87 |\n",
      "| O'Connor, Mary       | Chicago City Council |    86 |\n",
      "| Graham, Deborah L.   | Chicago City Council |    84 |\n",
      "| Thomas, Latasha R.   | Chicago City Council |    84 |\n",
      "| Chandler, Michael D. | Chicago City Council |    84 |\n",
      "| Suarez, Regner Ray   | Chicago City Council |    83 |\n",
      "| Lane, Lona           | Chicago City Council |    83 |\n",
      "| Solis, Daniel        | Committee on Zoni... |    79 |\n",
      "| Burke, Edward M.     | Committee on Finance |    78 |\n",
      "| Thompson, JoAnn      | Chicago City Council |    78 |\n",
      "| Reboyras, Ariel      | Committee on Finance |    74 |\n",
      "| Tunney, Thomas       | Committee on Zoni... |    74 |\n",
      "| Tunney, Thomas       | Committee on Finance |    71 |\n",
      "| Cappleman, James     | Committee on Zoni... |    70 |\n",
      "| Reboyras, Ariel      | Committee on Lice... |    68 |\n",
      "| Ervin, Jason C.      | Committee on Finance |    68 |\n",
      "| Mitts, Emma          | Committee on Lice... |    66 |\n",
      "| Beale, Anthony       | Committee on Tran... |    65 |\n",
      "| Dowell, Pat          | Committee on Finance |    63 |\n",
      "| Burnett, Jr., Walter | Committee on Finance |    63 |\n",
      "| Laurino, Margaret    | Committee on Finance |    63 |\n",
      "| Reboyras, Ariel      | Committee on Hous... |    61 |\n",
      "| Fioretti, Bob        | Committee on Zoni... |    61 |\n",
      "| Dowell, Pat          | Committee on Hous... |    61 |\n",
      "| Dowell, Pat          | Committee on Tran... |    59 |\n",
      "| Waguespack, Scott    | Committee on Finance |    59 |\n",
      "| Reilly, Brendan      | Committee on Zoni... |    59 |\n",
      "| Silverstein, Debr... | Committee on Lice... |    59 |\n",
      "| Mell, Deborah        | Chicago City Council |    59 |\n",
      "| Tunney, Thomas       | Committee on Lice... |    58 |\n",
      "| Cullerton, Timoth... | Committee on Zoni... |    58 |\n",
      "| Cochran, Willie      | Committee on Finance |    57 |\n",
      "| Quinn, Marty         | Committee on Lice... |    57 |\n",
      "| Beale, Anthony       | Committee on Finance |    56 |\n",
      "| Smith, Michele       | Committee on Tran... |    55 |\n",
      "| Arena, John          | Committee on Lice... |    54 |\n",
      "| Suarez, Regner Ray   | Committee on Hous... |    53 |\n",
      "| Harris, Michelle A.  | Committee on Finance |    53 |\n",
      "| Ervin, Jason C.      | Committee on Tran... |    53 |\n",
      "| Quinn, Marty         | Committee on Tran... |    53 |\n",
      "| Mitts, Emma          | Committee on Finance |    52 |\n",
      "| O'Shea, Matthew J.   | Committee on Lice... |    52 |\n",
      "| Mell, Richard F.     | Chicago City Council |    51 |\n",
      "| Osterman, Harry      | Committee on Finance |    51 |\n",
      "| Graham, Deborah L.   | Committee on Zoni... |    50 |\n",
      "| Hairston, Leslie A.  | Committee on Finance |    49 |\n",
      "| Cochran, Willie      | Committee on Lice... |    48 |\n",
      "| Fioretti, Bob        | Committee on Lice... |    47 |\n",
      "| O'Shea, Matthew J.   | Committee on Tran... |    47 |\n",
      "| Cappleman, James     | Committee on Hous... |    47 |\n",
      "| Austin, Carrie M.    | Committee on Budg... |    46 |\n",
      "| Foulkes, Toni        | Committee on Finance |    46 |\n",
      "| Cullerton, Timoth... | Committee on Tran... |    46 |\n",
      "| Zalewski, Michael R. | Committee on Finance |    45 |\n",
      "| Austin, Carrie M.    | Committee on Finance |    45 |\n",
      "| Tunney, Thomas       | Committee on Econ... |    44 |\n",
      "| Burnett, Jr., Walter | Committee on Zoni... |    44 |\n",
      "| Cullerton, Timoth... | Committee on Hous... |    44 |\n",
      "| Reilly, Brendan      | Committee on Finance |    44 |\n",
      "| Cappleman, James     | Committee on Lice... |    44 |\n",
      "| Lane, Lona           | Committee on Hous... |    43 |\n",
      "| Pawar, Ameya         | Committee on Zoni... |    43 |\n",
      "| Suarez, Regner Ray   | Committee on Finance |    42 |\n",
      "| Suarez, Regner Ray   | Committee on Zoni... |    42 |\n",
      "| Lane, Lona           | Committee on Finance |    42 |\n",
      "| Foulkes, Toni        | Committee on Zoni... |    42 |\n",
      "| Laurino, Margaret    | Committee on Zoni... |    42 |\n",
      "| Graham, Deborah L.   | Committee on Lice... |    41 |\n",
      "| Sposato, Nicholas    | Committee on Hous... |    41 |\n",
      "| Sposato, Nicholas    | Committee on Lice... |    41 |\n",
      "| Colon, Rey           | Committee on Finance |    40 |\n",
      "| Colon, Rey           | Committee on Zoni... |    40 |\n",
      "| Holmes, Natashia     | Chicago City Council |    40 |\n",
      "| Munoz, Ricardo       | Committee on Finance |    39 |\n",
      "| Moreno, Proco Joe    | Committee on Finance |    39 |\n",
      "| Reboyras, Ariel      | Committee on Budg... |    38 |\n",
      "| Balcer, James        | Committee on Hous... |    38 |\n",
      "| Balcer, James        | Committee on Finance |    38 |\n",
      "| Waguespack, Scott    | Committee on Hous... |    38 |\n",
      "| Burns, William D.    | Committee on Hous... |    38 |\n",
      "| Burns, William D.    | Committee on Finance |    38 |\n",
      "| Graham, Deborah L.   | Committee on Finance |    37 |\n",
      "| Pope, John           | Committee on Finance |    37 |\n",
      "| Jackson, Sandi       | Chicago City Council |    37 |\n",
      "| O'Connor, Mary       | Committee on Lice... |    37 |\n",
      "| Harris, Michelle A.  | Committee on Budg... |    36 |\n",
      "| Fioretti, Bob        | Committee on Tran... |    35 |\n",
      "| Graham, Deborah L.   | Committee on Tran... |    35 |\n",
      "| Austin, Carrie M.    | Committee on Zoni... |    35 |\n",
      "| Quinn, Marty         | Committee on Finance |    35 |\n",
      "| O'Connor, Mary       | Committee on Tran... |    35 |\n",
      "| Reboyras, Ariel      | Committee on Publ... |    34 |\n",
      "| Cardenas, George A.  | Committee on Finance |    34 |\n",
      "| Pope, John           | Committee on Hous... |    34 |\n",
      "| Solis, Daniel        | Committee on Finance |    34 |\n",
      "| Sawyer, Roderick T.  | Committee on Lice... |    34 |\n",
      "| Sposato, Nicholas    | Committee on Publ... |    34 |\n",
      "| Cochran, Willie      | Committee on Budg... |    33 |\n",
      "| Tunney, Thomas       | Committee on Budg... |    33 |\n",
      "| Ervin, Jason C.      | Committee on Econ... |    33 |\n",
      "| Arena, John          | Committee on Econ... |    33 |\n",
      "| O'Connor, Patrick    | Committee on Finance |    32 |\n",
      "| Harris, Michelle A.  | Committee on Zoni... |    32 |\n",
      "| Thomas, Latasha R.   | Committee on Finance |    32 |\n",
      "| Brookins, Jr., Ho... | Committee on Finance |    32 |\n",
      "| Moore, Joseph        | Committee on Finance |    32 |\n",
      "| Quinn, Marty         | Committee on Spec... |    32 |\n",
      "| O'Connor, Mary       | Committee on Hous... |    32 |\n",
      "| Suarez, Regner Ray   | Committee on Tran... |    31 |\n",
      "| Burnett, Jr., Walter | Committee on Budg... |    31 |\n",
      "| Laurino, Margaret    | Committee on Budg... |    31 |\n",
      "| Reilly, Brendan      | Committee on Tran... |    31 |\n",
      "| Reilly, Brendan      | Committee on Budg... |    31 |\n",
      "| Burns, William D.    | Committee on Tran... |    31 |\n",
      "| Sposato, Nicholas    | Committee on Spec... |    31 |\n",
      "| Smith, Michele       | Committee on Spec... |    31 |\n",
      "| Mell, Deborah        | Committee on Tran... |    31 |\n",
      "| Dowell, Pat          | Committee on Budg... |    30 |\n",
      "| Balcer, James        | Committee on Publ... |    30 |\n",
      "| Cochran, Willie      | Committee on Publ... |    29 |\n",
      "| Burnett, Jr., Walter | Committee on Spec... |    29 |\n",
      "| Mitts, Emma          | Committee on Budg... |    29 |\n",
      "| O'Shea, Matthew J.   | Committee on Publ... |    29 |\n",
      "| Pawar, Ameya         | Committee on Spec... |    29 |\n",
      "| Reboyras, Ariel      | Committee on Tran... |    28 |\n",
      "| Hairston, Leslie A.  | Committee on Econ... |    28 |\n",
      "| Beale, Anthony       | Committee on Budg... |    28 |\n",
      "| Mell, Deborah        | Committee on Hous... |    28 |\n",
      "| Pope, John           | Committee on Tran... |    27 |\n",
      "| Austin, Carrie M.    | Committee on Hous... |    27 |\n",
      "| O'Connor, Patrick    | Committee on Work... |    27 |\n",
      "| Hairston, Leslie A.  | Committee on Budg... |    27 |\n",
      "| Cullerton, Timoth... | Committee on Econ... |    27 |\n",
      "| Thompson, JoAnn      | Committee on Finance |    27 |\n",
      "| Smith, Michele       | Committee on Econ... |    27 |\n",
      "| Arena, John          | Committee on Spec... |    27 |\n",
      "| Waguespack, Scott    | Committee on Spec... |    26 |\n",
      "| Waguespack, Scott    | Committee on Budg... |    26 |\n",
      "| Burke, Edward M.     | Committee on Budg... |    26 |\n",
      "| Burke, Edward M.     | Committee on Zoni... |    26 |\n",
      "| O'Connor, Patrick    | Committee on Budg... |    26 |\n",
      "| O'Shea, Matthew J.   | Committee on Budg... |    26 |\n",
      "| Cappleman, James     | Committee on Budg... |    26 |\n",
      "| Silverstein, Debr... | Committee on Publ... |    26 |\n",
      "| Fioretti, Bob        | Committee on Spec... |    25 |\n",
      "| Munoz, Ricardo       | Committee on Budg... |    25 |\n",
      "| Moore, Joseph        | Committee on Budg... |    25 |\n",
      "| Silverstein, Debr... | Committee on Spec... |    25 |\n",
      "| Cardenas, George A.  | Committee on Lice... |    24 |\n",
      "| Zalewski, Michael R. | Committee on Avia... |    24 |\n",
      "| Foulkes, Toni        | Committee on Econ... |    24 |\n",
      "| Brookins, Jr., Ho... | Committee on Budg... |    24 |\n",
      "| Hopkins, Brian       | Chicago City Council |    24 |\n",
      "| Mitchell, Gregory I. | Chicago City Council |    24 |\n",
      "| Sadlowski Garza, ... | Chicago City Council |    24 |\n",
      "| Thompson, Patrick D. | Chicago City Council |    24 |\n",
      "| Lopez, Raymond A.    | Chicago City Council |    24 |\n",
      "| Moore, David H.      | Chicago City Council |    24 |\n",
      "| Curtis, Derrick G.   | Chicago City Council |    24 |\n",
      "| Scott, Jr. Michael   | Chicago City Council |    24 |\n",
      "| Villegas, Gilbert    | Chicago City Council |    24 |\n",
      "| Napolitano, Antho... | Chicago City Council |    24 |\n",
      "| Zalewski, Michael R. | Committee on Budg... |    23 |\n",
      "| Lane, Lona           | Committee on Spec... |    23 |\n",
      "| Brookins, Jr., Ho... | Committee on Zoni... |    23 |\n",
      "| Solis, Daniel        | Committee on Budg... |    23 |\n",
      "| Cullerton, Timoth... | Committee on Budg... |    23 |\n",
      "| Smith, Michele       | Committee on Huma... |    23 |\n",
      "| Taliaferro, Chris    | Chicago City Council |    23 |\n",
      "| Ramirez-Rosa, Carlos | Chicago City Council |    23 |\n",
      "| Reboyras, Ariel      | Committee on Avia... |    22 |\n",
      "| Cardenas, George A.  | Committee on Hous... |    22 |\n",
      "| Cardenas, George A.  | Committee on Budg... |    22 |\n",
      "| Suarez, Regner Ray   | Committee on Budg... |    22 |\n",
      "| Thomas, Latasha R.   | Committee on Zoni... |    22 |\n",
      "| Mitts, Emma          | Committee on Econ... |    22 |\n",
      "| Sawyer, Roderick T.  | Committee on Spec... |    22 |\n",
      "| Pawar, Ameya         | Committee on Econ... |    22 |\n",
      "| Balcer, James        | Committee on Budg... |    21 |\n",
      "| Lane, Lona           | Committee on Publ... |    21 |\n",
      "| Mell, Richard F.     | Committee on Finance |    21 |\n",
      "| Hairston, Leslie A.  | Committee on Spec... |    21 |\n",
      "| Foulkes, Toni        | Committee on Spec... |    21 |\n",
      "| Smith, Michele       | Committee on Work... |    21 |\n",
      "| Arena, John          | Committee on Avia... |    21 |\n",
      "| Reboyras, Ariel      | Committee on Comm... |    20 |\n",
      "| Graham, Deborah L.   | Committee on Spec... |    20 |\n",
      "| Dowell, Pat          | Committee on Avia... |    20 |\n",
      "| Lane, Lona           | Committee on Econ... |    20 |\n",
      "| Waguespack, Scott    | Committee on Huma... |    20 |\n",
      "| Moreno, Proco Joe    | Committee on Spec... |    20 |\n",
      "| Moreno, Proco Joe    | Committee on Lice... |    20 |\n",
      "| Santiago, Milagro... | Chicago City Council |    20 |\n",
      "| Lane, Lona           | Committee on Budg... |    19 |\n",
      "| Thomas, Latasha R.   | Committee on Spec... |    19 |\n",
      "| Brookins, Jr., Ho... | Committee on Spec... |    19 |\n",
      "| Pawar, Ameya         | Committee on Publ... |    19 |\n",
      "| Holmes, Natashia     | Committee on Tran... |    19 |\n",
      "| Reboyras, Ariel      | Committee on Huma... |    18 |\n",
      "| Mitts, Emma          | Committee on Avia... |    18 |\n",
      "| Quinn, Marty         | Committee on Avia... |    18 |\n",
      "| Chandler, Michael D. | Committee on Hous... |    18 |\n",
      "| Arena, John          | Committee on Finance |    18 |\n",
      "| Silverstein, Debr... | Committee on Work... |    18 |\n",
      "| Mitchell, Gregory I. | Committee on Finance |    18 |\n",
      "| Thompson, Patrick D. | Committee on Finance |    18 |\n",
      "| Fioretti, Bob        | Committee on Avia... |    17 |\n",
      "| Cochran, Willie      | Committee on Avia... |    17 |\n",
      "| Tunney, Thomas       | Committee on Work... |    17 |\n",
      "| Pope, John           | Committee on Budg... |    17 |\n",
      "| Harris, Michelle A.  | Committee on Spec... |    17 |\n",
      "| Burnett, Jr., Walter | Committee on Publ... |    17 |\n",
      "| Mitts, Emma          | Committee on Publ... |    17 |\n",
      "| Ervin, Jason C.      | Committee on Pede... |    17 |\n",
      "| Thompson, JoAnn      | Committee on Hous... |    17 |\n",
      "| Quinn, Marty         | Committee on Pede... |    17 |\n",
      "| O'Connor, Mary       | Committee on Avia... |    17 |\n",
      "| O'Connor, Mary       | Committee on Publ... |    17 |\n",
      "| Osterman, Harry      | Committee on Publ... |    17 |\n",
      "| Mell, Deborah        | Committee on Zoni... |    17 |\n",
      "| Scott, Jr. Michael   | Committee on Lice... |    17 |\n",
      "| Cochran, Willie      | Committee on Econ... |    16 |\n",
      "| Mell, Richard F.     | Committee on Hous... |    16 |\n",
      "| Laurino, Margaret    | Committee on Work... |    16 |\n",
      "| Maldonado, Roberto   | Committee on Tran... |    16 |\n",
      "| Cullerton, Timoth... | Committee on Comm... |    16 |\n",
      "| Cullerton, Timoth... | Committee on Avia... |    16 |\n",
      "| Thompson, JoAnn      | Committee on Budg... |    16 |\n",
      "| Sawyer, Roderick T.  | Committee on Finance |    16 |\n",
      "| O'Shea, Matthew J.   | Committee on Finance |    16 |\n",
      "| Chandler, Michael D. | Committee on Lice... |    16 |\n",
      "| Sposato, Nicholas    | Committee on Finance |    16 |\n",
      "| Silverstein, Debr... | Committee on Finance |    16 |\n",
      "| Mitchell, Gregory I. | Committee on Lice... |    16 |\n",
      "| Fioretti, Bob        | Committee on Comm... |    15 |\n",
      "| Laurino, Margaret    | Committee on Pede... |    15 |\n",
      "| Moreno, Proco Joe    | Committee on Econ... |    15 |\n",
      "| Ervin, Jason C.      | Committee on Budg... |    15 |\n",
      "| O'Shea, Matthew J.   | Committee on Educ... |    15 |\n",
      "| O'Shea, Matthew J.   | Committee on Zoni... |    15 |\n",
      "| Smith, Michele       | Committee on Lice... |    15 |\n",
      "| Silverstein, Debr... | Committee on Pede... |    15 |\n",
      "| Taliaferro, Chris    | Committee on Lice... |    15 |\n",
      "| Tunney, Thomas       | Committee on Comm... |    14 |\n",
      "| Graham, Deborah L.   | Committee on Budg... |    14 |\n",
      "| Dowell, Pat          | Committee on Comm... |    14 |\n",
      "| Balcer, James        | Committee on Avia... |    14 |\n",
      "| Waguespack, Scott    | Committee on Lice... |    14 |\n",
      "| Mell, Richard F.     | Committee on Comm... |    14 |\n",
      "| Harris, Michelle A.  | Committee on Comm... |    14 |\n",
      "| Harris, Michelle A.  | Committee on Work... |    14 |\n",
      "| Mitts, Emma          | Committee on Comm... |    14 |\n",
      "| Mitts, Emma          | Committee on Work... |    14 |\n",
      "| Moore, Joseph        | Committee on Huma... |    14 |\n",
      "| Moore, Joseph        | Committee on Hous... |    14 |\n",
      "| Moreno, Proco Joe    | Committee on Zoni... |    14 |\n",
      "| Ervin, Jason C.      | Committee on Educ... |    14 |\n",
      "| Ervin, Jason C.      | Committee on Huma... |    14 |\n",
      "| Reilly, Brendan      | Committee on Work... |    14 |\n",
      "| Thompson, JoAnn      | Committee on Lice... |    14 |\n",
      "| ...                  | ...                  |   ... |\n"
     ]
    }
   ],
   "source": [
    "order_meetings_group.print_table(max_rows=300)"
   ]
  },
  {
   "cell_type": "code",
   "execution_count": null,
   "metadata": {
    "collapsed": true,
    "deletable": true,
    "editable": true
   },
   "outputs": [],
   "source": []
  }
 ],
 "metadata": {
  "kernelspec": {
   "display_name": "Python 2",
   "language": "python",
   "name": "python2"
  },
  "language_info": {
   "codemirror_mode": {
    "name": "ipython",
    "version": 2
   },
   "file_extension": ".py",
   "mimetype": "text/x-python",
   "name": "python",
   "nbconvert_exporter": "python",
   "pygments_lexer": "ipython2",
   "version": "2.7.13"
  }
 },
 "nbformat": 4,
 "nbformat_minor": 2
}
